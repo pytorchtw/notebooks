{
 "cells": [
  {
   "cell_type": "markdown",
   "metadata": {},
   "source": [
    "### This notebook is based on the linear regression tutorial code from the blog post  [PyTorch (3) Linear Regression](http://aidiary.hatenablog.com/entry/20180131/1517387821)\n",
    "\n",
    "In the tutorial scikit-learn the [Boston house price dataset](https://scikit-learn.org/stable/modules/generated/sklearn.datasets.load_boston.html#examples-using-sklearn-datasets-load-boston) is used.\n",
    "\n",
    "You can also check out the [tutorial](https://machine-learning-python.kspax.io/application/linear_regression) using the sklearn library\n",
    "\n",
    "\n",
    "\n"
   ]
  },
  {
   "cell_type": "code",
   "execution_count": 2,
   "metadata": {
    "collapsed": false
   },
   "outputs": [
    {
     "name": "stdout",
     "output_type": "stream",
     "text": [
      "epoch 0, loss: 583.9393 val_loss: 598.2154\n",
      "epoch 200, loss: 449.9127 val_loss: 475.2734\n",
      "epoch 400, loss: 368.9606 val_loss: 397.2615\n",
      "epoch 600, loss: 303.9657 val_loss: 332.6836\n",
      "epoch 800, loss: 249.1576 val_loss: 276.6391\n",
      "epoch 1000, loss: 202.6560 val_loss: 228.4083\n",
      "epoch 1200, loss: 163.5032 val_loss: 187.5325\n",
      "epoch 1400, loss: 130.9072 val_loss: 153.2969\n",
      "epoch 1600, loss: 104.1304 val_loss: 124.9490\n",
      "epoch 1800, loss: 82.4743 val_loss: 101.7837\n",
      "epoch 2000, loss: 65.2746 val_loss: 83.1443\n",
      "epoch 2200, loss: 51.9002 val_loss: 68.4139\n",
      "epoch 2400, loss: 41.7531 val_loss: 57.0098\n",
      "epoch 2600, loss: 34.2718 val_loss: 48.3839\n",
      "epoch 2800, loss: 28.9363 val_loss: 42.0266\n",
      "epoch 3000, loss: 25.2744 val_loss: 37.4716\n",
      "epoch 3200, loss: 22.8699 val_loss: 34.3045\n",
      "epoch 3400, loss: 21.3689 val_loss: 32.1692\n",
      "epoch 3600, loss: 20.4844 val_loss: 30.7721\n",
      "epoch 3800, loss: 19.9961 val_loss: 29.8829\n",
      "epoch 4000, loss: 19.7457 val_loss: 29.3305\n",
      "epoch 4200, loss: 19.6274 val_loss: 28.9937\n",
      "epoch 4400, loss: 19.5763 val_loss: 28.7919\n",
      "epoch 4600, loss: 19.5565 val_loss: 28.6732\n",
      "epoch 4800, loss: 19.5496 val_loss: 28.6051\n"
     ]
    },
    {
     "data": {
      "text/plain": [
       "<matplotlib.legend.Legend at 0x12f4c5cc0>"
      ]
     },
     "execution_count": 2,
     "metadata": {},
     "output_type": "execute_result"
    },
    {
     "data": {
      "image/png": "[encoded data removed]",
      "text/plain": [
       "<Figure size 432x288 with 1 Axes>"
      ]
     },
     "metadata": {
      "needs_background": "light"
     },
     "output_type": "display_data"
    }
   ],
   "source": [
    "import torch\n",
    "import torch.nn as nn\n",
    "import numpy as np\n",
    "import matplotlib.pyplot as plt\n",
    "\n",
    "from sklearn.datasets import load_boston\n",
    "from sklearn.model_selection import train_test_split\n",
    "from sklearn.preprocessing import StandardScaler\n",
    "\n",
    "import matplotlib.pyplot as plt\n",
    "\n",
    "# hyper parameters\n",
    "input_size = 13\n",
    "output_size = 1\n",
    "num_epochs = 5000\n",
    "learning_rate = 0.01\n",
    "\n",
    "boston = load_boston()\n",
    "X = boston.data\n",
    "y = boston.target\n",
    "\n",
    "X_train, X_test, y_train, y_test = train_test_split(X, y, test_size = 0.33, random_state = 5)\n",
    "\n",
    "# データの標準化\n",
    "scaler = StandardScaler()\n",
    "X_train = scaler.fit_transform(X_train)\n",
    "X_test = scaler.transform(X_test)\n",
    "\n",
    "y_train = np.expand_dims(y_train, axis=1)\n",
    "y_test = np.expand_dims(y_test, axis=1)\n",
    "\n",
    "# linear regression model\n",
    "class LinearRegression(nn.Module):\n",
    "\n",
    "    def __init__(self, input_size, output_size):\n",
    "        super(LinearRegression, self).__init__()\n",
    "        self.linear = nn.Linear(input_size, output_size)\n",
    "\n",
    "    def forward(self, x):\n",
    "        out = self.linear(x)\n",
    "        return out\n",
    "\n",
    "model = LinearRegression(input_size, output_size)\n",
    "\n",
    "# loss and optimizer\n",
    "criterion = nn.MSELoss()\n",
    "optimizer = torch.optim.Adam(model.parameters(), lr=learning_rate)\n",
    "\n",
    "def train(X_train, y_train):\n",
    "    inputs = torch.from_numpy(X_train).float()\n",
    "    targets = torch.from_numpy(y_train).float()\n",
    "\n",
    "    optimizer.zero_grad()\n",
    "    outputs = model(inputs)\n",
    "\n",
    "    loss = criterion(outputs, targets)\n",
    "    loss.backward()\n",
    "    optimizer.step()\n",
    "\n",
    "    return loss.item()\n",
    "\n",
    "def valid(X_test, y_test):\n",
    "    inputs = torch.from_numpy(X_test).float()\n",
    "    targets = torch.from_numpy(y_test).float()\n",
    "    \n",
    "    outputs = model(inputs)\n",
    "    val_loss = criterion(outputs, targets)\n",
    "    \n",
    "    return val_loss.item()\n",
    "        \n",
    "# train the model\n",
    "loss_list = []\n",
    "val_loss_list = []\n",
    "for epoch in range(num_epochs):\n",
    "    # data shuffle\n",
    "    perm = np.arange(X_train.shape[0])\n",
    "    np.random.shuffle(perm)\n",
    "    X_train = X_train[perm]\n",
    "    y_train = y_train[perm]\n",
    "\n",
    "    loss = train(X_train, y_train)\n",
    "    val_loss = valid(X_test, y_test)\n",
    "\n",
    "    if epoch % 200 == 0:\n",
    "        print('epoch %d, loss: %.4f val_loss: %.4f' % (epoch, loss, val_loss))\n",
    "\n",
    "    loss_list.append(loss)\n",
    "    val_loss_list.append(val_loss)\n",
    "\n",
    "# plot learning curve\n",
    "plt.plot(range(num_epochs), loss_list, 'r-', label='train_loss')\n",
    "plt.plot(range(num_epochs), val_loss_list, 'b-', label='val_loss')\n",
    "plt.legend()"
   ]
  },
  {
   "cell_type": "code",
   "execution_count": null,
   "metadata": {
    "collapsed": true
   },
   "outputs": [],
   "source": []
  }
 ],
 "metadata": {
  "kernelspec": {
   "display_name": "Python 3",
   "language": "python",
   "name": "python3"
  },
  "language_info": {
   "codemirror_mode": {
    "name": "ipython",
    "version": 3
   },
   "file_extension": ".py",
   "mimetype": "text/x-python",
   "name": "python",
   "nbconvert_exporter": "python",
   "pygments_lexer": "ipython3",
   "version": "3.6.8"
  }
 },
 "nbformat": 4,
 "nbformat_minor": 0
}
